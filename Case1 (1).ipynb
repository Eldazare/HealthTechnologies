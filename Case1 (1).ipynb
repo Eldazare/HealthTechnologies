{
 "cells": [
  {
   "cell_type": "markdown",
   "metadata": {},
   "source": [
    "<center><font size=\"6\">Case 1. Heart Disease Classification</font></center>\n",
    "\n",
    "<center><font size=\"4\">Sakari Helokunnas</font></center>\n",
    "\n",
    "<center><font size=\"3\">3.2.2019</font></center>\n",
    "\n",
    "<center><font size=\"5\">Helsinki Metropolia University of Applied Sciences </font></center>"
   ]
  },
  {
   "cell_type": "markdown",
   "metadata": {},
   "source": [
    "<font size=\"5\">Objectives</font><br>\n",
    "<u>Assignment goal</u>: Train keras neural network to predict heart disease status<br>\n",
    "<u>Own goal</u>: Optimize neural network training parameters for minimal loss deviation between training set and validation set<br>\n",
    "\n",
    "<font size=\"5\">Data Notes</font><br>\n",
    "Data was in four parts, total 920 rows.<br>\n",
    "Some missing data, mainly parameters 12 and 13.<br>\n",
    "\n",
    "\n",
    "<font size=\"5\">Dataset parameters</font>\n",
    "    1. age            age in years\n",
    "    2. sex            sex\n",
    "    3. cp             chest pain type\n",
    "    4. trestbps       resting blood pressure\n",
    "    5. chol           serum cholestoral\n",
    "    6. fbs fasting    blood sugar\n",
    "    7. restecg        resting electrocardiographic results\n",
    "    8. thalach        maximum heart rate achieved\n",
    "    9. exang          exercise induced angina\n",
    "    10. oldpeak       ST depression induced by exercise relative to rest\n",
    "    11. slope         the slope of the peak exercise ST segment\n",
    "    12. ca            number of major vessels (0-3) colored by flourosopy\n",
    "    13. thal          3 = normal; 6 = fixed defect; 7 = reversable defect\n",
    "    14. num           diagnosis of heart disease (predicted)\n",
    "\n"
   ]
  },
  {
   "cell_type": "markdown",
   "metadata": {},
   "source": [
    "<font size=\"5\">Imports</font>"
   ]
  },
  {
   "cell_type": "code",
   "execution_count": 1,
   "metadata": {},
   "outputs": [
    {
     "name": "stdout",
     "output_type": "stream",
     "text": [
      "Populating the interactive namespace from numpy and matplotlib\n"
     ]
    },
    {
     "name": "stderr",
     "output_type": "stream",
     "text": [
      "Using TensorFlow backend.\n"
     ]
    }
   ],
   "source": [
    "%pylab inline\n",
    "import pandas as pd\n",
    "import sklearn.utils as skuti\n",
    "from sklearn.model_selection import KFold\n",
    "import time as time\n",
    "\n",
    "from keras import models\n",
    "from keras import layers\n",
    "from keras import optimizers"
   ]
  },
  {
   "cell_type": "markdown",
   "metadata": {},
   "source": [
    "<font size=\"5\">Data URLs</font>"
   ]
  },
  {
   "cell_type": "code",
   "execution_count": 2,
   "metadata": {},
   "outputs": [],
   "source": [
    "url1 = r'http://archive.ics.uci.edu/ml/machine-learning-databases/heart-disease/processed.cleveland.data'\n",
    "url2 = r'https://archive.ics.uci.edu/ml/machine-learning-databases/heart-disease/processed.hungarian.data'\n",
    "url3 = r'https://archive.ics.uci.edu/ml/machine-learning-databases/heart-disease/processed.switzerland.data'\n",
    "url4 = r'https://archive.ics.uci.edu/ml/machine-learning-databases/heart-disease/processed.va.data'"
   ]
  },
  {
   "cell_type": "markdown",
   "metadata": {},
   "source": [
    "<font size=\"5\">Defining data reading methods </font>\n",
    "<font size=\"3\">(note shuffle here)</font>"
   ]
  },
  {
   "cell_type": "code",
   "execution_count": 3,
   "metadata": {},
   "outputs": [],
   "source": [
    "#Data division parameters\n",
    "dataBreakpoint1 = 460 # training/validation\n",
    "dataBreakpoint2 = 690 # validation/testing\n",
    "dataMin = 0 # starting point, usually 0\n",
    "dataMax = 920 # ending point, should be the count of values in all data\n",
    "\n",
    "kfoldBreakpoint = 820 # breakpoint between kfolded data and separate evaluation data\n",
    "\n",
    "class Dataset(object):\n",
    "    def __init__(self, original, values, labels):\n",
    "        self.original = original\n",
    "        self.values = values\n",
    "        self.labels = labels\n",
    "\n",
    "def readUrl(url):\n",
    "    dataframe = pd.read_csv(url, \n",
    "                            sep = ',', \n",
    "                            header = None, \n",
    "                            index_col = None,\n",
    "                            na_values = '?')\n",
    "    dataframe = dataframe.fillna(dataframe.median())\n",
    "    name_list = ['age', 'sex', 'cp','trestbps', 'chol', 'fbs','restecg',\n",
    "             'thalac','exang','oldpeak','slope','ca','thal','num']\n",
    "    dataframe.columns = name_list\n",
    "    return dataframe\n",
    "\n",
    "def readAllData():\n",
    "    #combining all data\n",
    "    data = readUrl(url1).append(readUrl(url2).append(readUrl(url3).append(readUrl(url4), ignore_index=True), ignore_index=True), ignore_index=True)\n",
    "    #data = data.sample(frac=1)\n",
    "    data = skuti.shuffle(data) # randomize rows\n",
    "    train_labels_nums = data['num']\n",
    "    train_labels = []\n",
    "    for x in train_labels_nums:\n",
    "        lista = []\n",
    "        for z in range(2): # fill out the list\n",
    "            lista.append(0.0)\n",
    "        if x > 0: # any amount of disease is a disease\n",
    "            lista[1] = 1.0\n",
    "        else: # rest are no-disease\n",
    "            lista[0] = 1.0\n",
    "        train_labels.append(lista)\n",
    "    train_labels = pd.DataFrame(data=train_labels)\n",
    "    train_data = data.drop(['num'], axis=1)\n",
    "    return Dataset(data, train_data, train_labels)"
   ]
  },
  {
   "cell_type": "markdown",
   "metadata": {},
   "source": [
    "<font size=\"5\">Read data and Check data correlation</font>"
   ]
  },
  {
   "cell_type": "code",
   "execution_count": 4,
   "metadata": {},
   "outputs": [
    {
     "data": {
      "text/html": [
       "<div>\n",
       "<style scoped>\n",
       "    .dataframe tbody tr th:only-of-type {\n",
       "        vertical-align: middle;\n",
       "    }\n",
       "\n",
       "    .dataframe tbody tr th {\n",
       "        vertical-align: top;\n",
       "    }\n",
       "\n",
       "    .dataframe thead th {\n",
       "        text-align: right;\n",
       "    }\n",
       "</style>\n",
       "<table border=\"1\" class=\"dataframe\">\n",
       "  <thead>\n",
       "    <tr style=\"text-align: right;\">\n",
       "      <th></th>\n",
       "      <th>age</th>\n",
       "      <th>sex</th>\n",
       "      <th>cp</th>\n",
       "      <th>trestbps</th>\n",
       "      <th>chol</th>\n",
       "      <th>fbs</th>\n",
       "      <th>restecg</th>\n",
       "      <th>thalac</th>\n",
       "      <th>exang</th>\n",
       "      <th>oldpeak</th>\n",
       "      <th>slope</th>\n",
       "      <th>ca</th>\n",
       "      <th>thal</th>\n",
       "      <th>num</th>\n",
       "    </tr>\n",
       "  </thead>\n",
       "  <tbody>\n",
       "    <tr>\n",
       "      <th>age</th>\n",
       "      <td>1.000000</td>\n",
       "      <td>0.056889</td>\n",
       "      <td>0.166245</td>\n",
       "      <td>0.230845</td>\n",
       "      <td>-0.088799</td>\n",
       "      <td>0.219915</td>\n",
       "      <td>0.213651</td>\n",
       "      <td>-0.375075</td>\n",
       "      <td>0.230415</td>\n",
       "      <td>0.267040</td>\n",
       "      <td>0.077087</td>\n",
       "      <td>0.210302</td>\n",
       "      <td>0.129752</td>\n",
       "      <td>0.339596</td>\n",
       "    </tr>\n",
       "    <tr>\n",
       "      <th>sex</th>\n",
       "      <td>0.056889</td>\n",
       "      <td>1.000000</td>\n",
       "      <td>0.170392</td>\n",
       "      <td>-0.002449</td>\n",
       "      <td>-0.195080</td>\n",
       "      <td>0.075370</td>\n",
       "      <td>-0.016442</td>\n",
       "      <td>-0.194053</td>\n",
       "      <td>0.206185</td>\n",
       "      <td>0.116587</td>\n",
       "      <td>0.105805</td>\n",
       "      <td>0.065170</td>\n",
       "      <td>0.336347</td>\n",
       "      <td>0.259342</td>\n",
       "    </tr>\n",
       "    <tr>\n",
       "      <th>cp</th>\n",
       "      <td>0.166245</td>\n",
       "      <td>0.170392</td>\n",
       "      <td>1.000000</td>\n",
       "      <td>0.023910</td>\n",
       "      <td>-0.133910</td>\n",
       "      <td>0.021265</td>\n",
       "      <td>0.032288</td>\n",
       "      <td>-0.333174</td>\n",
       "      <td>0.386499</td>\n",
       "      <td>0.226172</td>\n",
       "      <td>0.110992</td>\n",
       "      <td>0.210821</td>\n",
       "      <td>0.207602</td>\n",
       "      <td>0.397896</td>\n",
       "    </tr>\n",
       "    <tr>\n",
       "      <th>trestbps</th>\n",
       "      <td>0.230845</td>\n",
       "      <td>-0.002449</td>\n",
       "      <td>0.023910</td>\n",
       "      <td>1.000000</td>\n",
       "      <td>0.090883</td>\n",
       "      <td>0.143936</td>\n",
       "      <td>0.095496</td>\n",
       "      <td>-0.098139</td>\n",
       "      <td>0.137255</td>\n",
       "      <td>0.153323</td>\n",
       "      <td>0.050265</td>\n",
       "      <td>-0.000638</td>\n",
       "      <td>0.028193</td>\n",
       "      <td>0.112128</td>\n",
       "    </tr>\n",
       "    <tr>\n",
       "      <th>chol</th>\n",
       "      <td>-0.088799</td>\n",
       "      <td>-0.195080</td>\n",
       "      <td>-0.133910</td>\n",
       "      <td>0.090883</td>\n",
       "      <td>1.000000</td>\n",
       "      <td>0.087453</td>\n",
       "      <td>0.109356</td>\n",
       "      <td>0.224977</td>\n",
       "      <td>-0.035750</td>\n",
       "      <td>0.046804</td>\n",
       "      <td>-0.032356</td>\n",
       "      <td>-0.441546</td>\n",
       "      <td>-0.193208</td>\n",
       "      <td>-0.233732</td>\n",
       "    </tr>\n",
       "    <tr>\n",
       "      <th>fbs</th>\n",
       "      <td>0.219915</td>\n",
       "      <td>0.075370</td>\n",
       "      <td>0.021265</td>\n",
       "      <td>0.143936</td>\n",
       "      <td>0.087453</td>\n",
       "      <td>1.000000</td>\n",
       "      <td>0.142750</td>\n",
       "      <td>-0.056995</td>\n",
       "      <td>0.076999</td>\n",
       "      <td>0.075561</td>\n",
       "      <td>0.070830</td>\n",
       "      <td>-0.045557</td>\n",
       "      <td>0.086715</td>\n",
       "      <td>0.129539</td>\n",
       "    </tr>\n",
       "    <tr>\n",
       "      <th>restecg</th>\n",
       "      <td>0.213651</td>\n",
       "      <td>-0.016442</td>\n",
       "      <td>0.032288</td>\n",
       "      <td>0.095496</td>\n",
       "      <td>0.109356</td>\n",
       "      <td>0.142750</td>\n",
       "      <td>1.000000</td>\n",
       "      <td>0.042089</td>\n",
       "      <td>0.045707</td>\n",
       "      <td>0.123870</td>\n",
       "      <td>-0.043313</td>\n",
       "      <td>0.084869</td>\n",
       "      <td>-0.101452</td>\n",
       "      <td>0.139997</td>\n",
       "    </tr>\n",
       "    <tr>\n",
       "      <th>thalac</th>\n",
       "      <td>-0.375075</td>\n",
       "      <td>-0.194053</td>\n",
       "      <td>-0.333174</td>\n",
       "      <td>-0.098139</td>\n",
       "      <td>0.224977</td>\n",
       "      <td>-0.056995</td>\n",
       "      <td>0.042089</td>\n",
       "      <td>1.000000</td>\n",
       "      <td>-0.382328</td>\n",
       "      <td>-0.161634</td>\n",
       "      <td>-0.299105</td>\n",
       "      <td>-0.138015</td>\n",
       "      <td>-0.329817</td>\n",
       "      <td>-0.359713</td>\n",
       "    </tr>\n",
       "    <tr>\n",
       "      <th>exang</th>\n",
       "      <td>0.230415</td>\n",
       "      <td>0.206185</td>\n",
       "      <td>0.386499</td>\n",
       "      <td>0.137255</td>\n",
       "      <td>-0.035750</td>\n",
       "      <td>0.076999</td>\n",
       "      <td>0.045707</td>\n",
       "      <td>-0.382328</td>\n",
       "      <td>1.000000</td>\n",
       "      <td>0.406736</td>\n",
       "      <td>0.223259</td>\n",
       "      <td>0.006090</td>\n",
       "      <td>0.285978</td>\n",
       "      <td>0.376892</td>\n",
       "    </tr>\n",
       "    <tr>\n",
       "      <th>oldpeak</th>\n",
       "      <td>0.267040</td>\n",
       "      <td>0.116587</td>\n",
       "      <td>0.226172</td>\n",
       "      <td>0.153323</td>\n",
       "      <td>0.046804</td>\n",
       "      <td>0.075561</td>\n",
       "      <td>0.123870</td>\n",
       "      <td>-0.161634</td>\n",
       "      <td>0.406736</td>\n",
       "      <td>1.000000</td>\n",
       "      <td>0.270972</td>\n",
       "      <td>0.066492</td>\n",
       "      <td>0.215003</td>\n",
       "      <td>0.421671</td>\n",
       "    </tr>\n",
       "    <tr>\n",
       "      <th>slope</th>\n",
       "      <td>0.077087</td>\n",
       "      <td>0.105805</td>\n",
       "      <td>0.110992</td>\n",
       "      <td>0.050265</td>\n",
       "      <td>-0.032356</td>\n",
       "      <td>0.070830</td>\n",
       "      <td>-0.043313</td>\n",
       "      <td>-0.299105</td>\n",
       "      <td>0.223259</td>\n",
       "      <td>0.270972</td>\n",
       "      <td>1.000000</td>\n",
       "      <td>-0.087285</td>\n",
       "      <td>0.311209</td>\n",
       "      <td>0.201875</td>\n",
       "    </tr>\n",
       "    <tr>\n",
       "      <th>ca</th>\n",
       "      <td>0.210302</td>\n",
       "      <td>0.065170</td>\n",
       "      <td>0.210821</td>\n",
       "      <td>-0.000638</td>\n",
       "      <td>-0.441546</td>\n",
       "      <td>-0.045557</td>\n",
       "      <td>0.084869</td>\n",
       "      <td>-0.138015</td>\n",
       "      <td>0.006090</td>\n",
       "      <td>0.066492</td>\n",
       "      <td>-0.087285</td>\n",
       "      <td>1.000000</td>\n",
       "      <td>0.036678</td>\n",
       "      <td>0.408797</td>\n",
       "    </tr>\n",
       "    <tr>\n",
       "      <th>thal</th>\n",
       "      <td>0.129752</td>\n",
       "      <td>0.336347</td>\n",
       "      <td>0.207602</td>\n",
       "      <td>0.028193</td>\n",
       "      <td>-0.193208</td>\n",
       "      <td>0.086715</td>\n",
       "      <td>-0.101452</td>\n",
       "      <td>-0.329817</td>\n",
       "      <td>0.285978</td>\n",
       "      <td>0.215003</td>\n",
       "      <td>0.311209</td>\n",
       "      <td>0.036678</td>\n",
       "      <td>1.000000</td>\n",
       "      <td>0.323474</td>\n",
       "    </tr>\n",
       "    <tr>\n",
       "      <th>num</th>\n",
       "      <td>0.339596</td>\n",
       "      <td>0.259342</td>\n",
       "      <td>0.397896</td>\n",
       "      <td>0.112128</td>\n",
       "      <td>-0.233732</td>\n",
       "      <td>0.129539</td>\n",
       "      <td>0.139997</td>\n",
       "      <td>-0.359713</td>\n",
       "      <td>0.376892</td>\n",
       "      <td>0.421671</td>\n",
       "      <td>0.201875</td>\n",
       "      <td>0.408797</td>\n",
       "      <td>0.323474</td>\n",
       "      <td>1.000000</td>\n",
       "    </tr>\n",
       "  </tbody>\n",
       "</table>\n",
       "</div>"
      ],
      "text/plain": [
       "               age       sex        cp  trestbps      chol       fbs  \\\n",
       "age       1.000000  0.056889  0.166245  0.230845 -0.088799  0.219915   \n",
       "sex       0.056889  1.000000  0.170392 -0.002449 -0.195080  0.075370   \n",
       "cp        0.166245  0.170392  1.000000  0.023910 -0.133910  0.021265   \n",
       "trestbps  0.230845 -0.002449  0.023910  1.000000  0.090883  0.143936   \n",
       "chol     -0.088799 -0.195080 -0.133910  0.090883  1.000000  0.087453   \n",
       "fbs       0.219915  0.075370  0.021265  0.143936  0.087453  1.000000   \n",
       "restecg   0.213651 -0.016442  0.032288  0.095496  0.109356  0.142750   \n",
       "thalac   -0.375075 -0.194053 -0.333174 -0.098139  0.224977 -0.056995   \n",
       "exang     0.230415  0.206185  0.386499  0.137255 -0.035750  0.076999   \n",
       "oldpeak   0.267040  0.116587  0.226172  0.153323  0.046804  0.075561   \n",
       "slope     0.077087  0.105805  0.110992  0.050265 -0.032356  0.070830   \n",
       "ca        0.210302  0.065170  0.210821 -0.000638 -0.441546 -0.045557   \n",
       "thal      0.129752  0.336347  0.207602  0.028193 -0.193208  0.086715   \n",
       "num       0.339596  0.259342  0.397896  0.112128 -0.233732  0.129539   \n",
       "\n",
       "           restecg    thalac     exang   oldpeak     slope        ca  \\\n",
       "age       0.213651 -0.375075  0.230415  0.267040  0.077087  0.210302   \n",
       "sex      -0.016442 -0.194053  0.206185  0.116587  0.105805  0.065170   \n",
       "cp        0.032288 -0.333174  0.386499  0.226172  0.110992  0.210821   \n",
       "trestbps  0.095496 -0.098139  0.137255  0.153323  0.050265 -0.000638   \n",
       "chol      0.109356  0.224977 -0.035750  0.046804 -0.032356 -0.441546   \n",
       "fbs       0.142750 -0.056995  0.076999  0.075561  0.070830 -0.045557   \n",
       "restecg   1.000000  0.042089  0.045707  0.123870 -0.043313  0.084869   \n",
       "thalac    0.042089  1.000000 -0.382328 -0.161634 -0.299105 -0.138015   \n",
       "exang     0.045707 -0.382328  1.000000  0.406736  0.223259  0.006090   \n",
       "oldpeak   0.123870 -0.161634  0.406736  1.000000  0.270972  0.066492   \n",
       "slope    -0.043313 -0.299105  0.223259  0.270972  1.000000 -0.087285   \n",
       "ca        0.084869 -0.138015  0.006090  0.066492 -0.087285  1.000000   \n",
       "thal     -0.101452 -0.329817  0.285978  0.215003  0.311209  0.036678   \n",
       "num       0.139997 -0.359713  0.376892  0.421671  0.201875  0.408797   \n",
       "\n",
       "              thal       num  \n",
       "age       0.129752  0.339596  \n",
       "sex       0.336347  0.259342  \n",
       "cp        0.207602  0.397896  \n",
       "trestbps  0.028193  0.112128  \n",
       "chol     -0.193208 -0.233732  \n",
       "fbs       0.086715  0.129539  \n",
       "restecg  -0.101452  0.139997  \n",
       "thalac   -0.329817 -0.359713  \n",
       "exang     0.285978  0.376892  \n",
       "oldpeak   0.215003  0.421671  \n",
       "slope     0.311209  0.201875  \n",
       "ca        0.036678  0.408797  \n",
       "thal      1.000000  0.323474  \n",
       "num       0.323474  1.000000  "
      ]
     },
     "execution_count": 4,
     "metadata": {},
     "output_type": "execute_result"
    }
   ],
   "source": [
    "allData = readAllData()\n",
    "allData.original.corr()"
   ]
  },
  {
   "cell_type": "markdown",
   "metadata": {},
   "source": [
    "<font size=\"5\">Drop _fbs_, _restecg_ and _trestbps_ as very low correlation. Then Normalize data.</font>"
   ]
  },
  {
   "cell_type": "code",
   "execution_count": 5,
   "metadata": {},
   "outputs": [],
   "source": [
    "mega_values = allData.values.drop(columns=['fbs','restecg', 'trestbps'])\n",
    "mega_labels = allData.labels\n",
    "mega_values = (mega_values - mega_values.mean()) / (mega_values.std())\n",
    "\n",
    "#Alternate normalizing functions, tested but yielded worse results\n",
    "#mega_values = (mega_values - mega_values.mean(axis=0)) / (mega_values.max() - mega_values.min())\n",
    "#mega_values = (mega_values - mega_values.min()) / (mega_values.max() - mega_values.min())"
   ]
  },
  {
   "cell_type": "markdown",
   "metadata": {},
   "source": [
    "<font size=\"5\">Organize data to sets</font>"
   ]
  },
  {
   "cell_type": "code",
   "execution_count": 6,
   "metadata": {},
   "outputs": [],
   "source": [
    "#non-kfold sets\n",
    "training_set = mega_values[dataMin:dataBreakpoint1]\n",
    "training_labels = mega_labels[dataMin:dataBreakpoint1]\n",
    "validation_set = mega_values[dataBreakpoint1:dataBreakpoint2]\n",
    "validation_labels = mega_labels[dataBreakpoint1:dataBreakpoint2]\n",
    "testing_set = mega_values[dataBreakpoint2:dataMax]\n",
    "testing_labels = mega_labels[dataBreakpoint2:dataMax]\n",
    "\n",
    "training_set = (training_set - training_set.mean()) / (training_set.std())\n",
    "training_set = (validation_set - training_set.mean()) / (training_set.std())\n",
    "training_set = (testing_set - training_set.mean()) / (training_set.std())\n",
    "\n",
    "#kfold sets\n",
    "kfoldSet_values = mega_values[dataMin:kfoldBreakpoint]\n",
    "kfoldSet_labels = mega_labels[dataMin:kfoldBreakpoint]\n",
    "kfoldEvaluate_values = mega_values[kfoldBreakpoint:dataMax]\n",
    "kfoldEvaluate_labels = mega_labels[kfoldBreakpoint:dataMax]\n",
    "\n",
    "#kfoldSet_values = (kfoldSet_values - kfoldSet_values.mean()) / (kfoldSet_values.std())\n",
    "#kfoldEvaluate_values = (kfoldEvaluate_values - kfoldSet_values.mean()) / (kfoldSet_values.std())"
   ]
  },
  {
   "cell_type": "markdown",
   "metadata": {},
   "source": [
    "<font size=\"5\">Create, Train and Validate the neural network.</font>"
   ]
  },
  {
   "cell_type": "code",
   "execution_count": 7,
   "metadata": {},
   "outputs": [
    {
     "name": "stdout",
     "output_type": "stream",
     "text": [
      "Fold 1 done. TestAcc: 0.761 | ValidationAcc: 0.805 | EvaluationAcc: 0.800\n",
      "Final loss deviation: 0.025\n",
      "Fit time: 1.068\n"
     ]
    },
    {
     "data": {
      "image/png": "[encoded data removed]",
      "text/plain": [
       "<Figure size 432x288 with 1 Axes>"
      ]
     },
     "metadata": {
      "needs_background": "light"
     },
     "output_type": "display_data"
    },
    {
     "name": "stdout",
     "output_type": "stream",
     "text": [
      "Fold 2 done. TestAcc: 0.810 | ValidationAcc: 0.824 | EvaluationAcc: 0.850\n",
      "Final loss deviation: 0.010\n",
      "Fit time: 1.027\n"
     ]
    },
    {
     "data": {
      "image/png": "[encoded data removed]",
      "text/plain": [
       "<Figure size 432x288 with 1 Axes>"
      ]
     },
     "metadata": {
      "needs_background": "light"
     },
     "output_type": "display_data"
    },
    {
     "name": "stdout",
     "output_type": "stream",
     "text": [
      "Fold 3 done. TestAcc: 0.834 | ValidationAcc: 0.790 | EvaluationAcc: 0.870\n",
      "Final loss deviation: -0.051\n",
      "Fit time: 1.222\n"
     ]
    },
    {
     "data": {
      "image/png": "[encoded data removed]",
      "text/plain": [
       "<Figure size 432x288 with 1 Axes>"
      ]
     },
     "metadata": {
      "needs_background": "light"
     },
     "output_type": "display_data"
    },
    {
     "name": "stdout",
     "output_type": "stream",
     "text": [
      "Fold 4 done. TestAcc: 0.823 | ValidationAcc: 0.815 | EvaluationAcc: 0.820\n",
      "Final loss deviation: 0.014\n",
      "Fit time: 1.460\n"
     ]
    },
    {
     "data": {
      "image/png": "[encoded data removed]",
      "text/plain": [
       "<Figure size 432x288 with 1 Axes>"
      ]
     },
     "metadata": {
      "needs_background": "light"
     },
     "output_type": "display_data"
    },
    {
     "name": "stdout",
     "output_type": "stream",
     "text": [
      "Full time: 6.0938\n"
     ]
    }
   ],
   "source": [
    "#Parameters\n",
    "layer1Density = 60\n",
    "batch = 100\n",
    "epoch = 20\n",
    "kfoldSplits = 4\n",
    "trainSingle = False # False is way to go\n",
    "#ParametersEnd\n",
    "\n",
    "\n",
    "kfold = KFold(n_splits=kfoldSplits) #Create KFold splits (indices)\n",
    "\n",
    "optimizer = optimizers.Adam(lr = 0.0004)\n",
    "\n",
    "#Different optimizers used, yielded generally same or worse results\n",
    "#optimizer = optimizers.SGD(lr = 0.1)\n",
    "#optimizer = optimizers.SGD(lr = 0.008, nesterov=True)\n",
    "#optimizer = optimizers.RMSprop()\n",
    "\n",
    "def createNetwork():\n",
    "    network = models.Sequential()\n",
    "    network.add(layers.Dense(layer1Density, activation='sigmoid', input_shape=(len(kfoldSet_values.columns),)))\n",
    "    network.add(layers.Dense(2, activation='softmax'))\n",
    "    network.compile(optimizer=optimizer,loss='binary_crossentropy', metrics=['accuracy'])\n",
    "    return network\n",
    "\n",
    "startTime = time.time()\n",
    "i = 0\n",
    "if trainSingle:\n",
    "    network = createNetwork()\n",
    "    \n",
    "for train, validate in kfold.split(kfoldSet_values):\n",
    "    i+=1\n",
    "    if trainSingle == False:\n",
    "        network = createNetwork()\n",
    "\n",
    "    #network.summary()\n",
    "    #network.fit(training_set, training_labels, batch_size=batch, epochs=epoch, validation_data=(validation_set, validation_labels))\n",
    "    fitTimeStart = time.time()\n",
    "    fitHistory = network.fit(kfoldSet_values.iloc[train], kfoldSet_labels.iloc[train], batch_size=batch, epochs=epoch, validation_data=(kfoldSet_values.iloc[validate], kfoldSet_labels.iloc[validate]), verbose=0)\n",
    "    fitTimeEnd = time.time()\n",
    "    evaHistory = network.evaluate(kfoldEvaluate_values, kfoldEvaluate_labels, verbose=0)\n",
    "    print(\"Fold %d done. TestAcc: %0.3f | ValidationAcc: %0.3f | EvaluationAcc: %0.3f\" % (i, fitHistory.history['acc'][-1], fitHistory.history['val_acc'][-1], evaHistory[1]))\n",
    "    print(\"Final loss deviation: %0.3f\" % (fitHistory.history['loss'][-1]-fitHistory.history['val_loss'][-1]))\n",
    "    print(\"Fit time: %0.3f\" % (fitTimeEnd-fitTimeStart))\n",
    "    plt.figure()\n",
    "    plt.plot(fitHistory.history['loss'])\n",
    "    plt.plot(fitHistory.history['val_loss'])\n",
    "    plt.legend(['train', 'validate'], loc='upper right')\n",
    "    plt.ylim(0.0, 1.0)\n",
    "    plt.ylabel(\"Loss\")\n",
    "    plt.xlabel(\"Epochs\")\n",
    "    plt.show()\n",
    "endTime = time.time()\n",
    "print(\"Full time: %0.4f\" % (endTime-startTime))"
   ]
  },
  {
   "cell_type": "markdown",
   "metadata": {},
   "source": [
    "<font size=\"5\">Result explanation</font><br>\n",
    "<u>KFold usage</u>: Data is separated into 4 parts, each \"fold\" has 3 parts training and 1 part validating. <br>Each \"fold\" creates a fresh neural network. (Parameter \"trainSingle = False\")<br>\n",
    "<br>\n",
    "**<u>Result parameters</u>**<br>\n",
    "<u>TestAcc</u>: Accuracy achieved for training set (last epoch)<br>\n",
    "<u>ValidationAcc</u>: Accuracy achieved for validation set<br>\n",
    "<u>EvaluationAcc</u>: Accuracy achieved for constant evaluation set, no overlap with KFold sets. Used to verify that each KFold learns about the same things.<br>\n",
    "<br>\n",
    "<u>FinalLossDeviation</u>: Loss function difference, between training and validation sets, at the end of last epoch. Used to verify how closely model<br>\n",
    "<u>FitTime</u>: Time it took for this KFold to execute (in seconds).<br>\n",
    "<u>Full time</u>: Total time for the whole KFold cell.<br>"
   ]
  },
  {
   "cell_type": "markdown",
   "metadata": {},
   "source": [
    "<font size=\"5\">Testing result observations</font><br>\n",
    "**<u>Data manipulation:</u><br>**\n",
    "    Dropping dropped columns raised average accuracy by about 1%~, so it was pretty neligible.<br>\n",
    "    Droppint columns _ca_ and _thal_ only worsened the accuracy by 2-4%, even though they were severely under represented in the data.<br>\n",
    "    Didn't test dropping rows that have many missing values.<br>\n",
    "<br>\n",
    "**<u>Neural Network Model manipulation:</u><br>**\n",
    "<u>First layer density</u>: 1000 is way too big, and under 10 seems to underfit. Around 20 sometimes got training anomalies (no smooth curves). 40-80 seems to yield similarly decent results.<br>\n",
    "<u>Batch and epochs</u>: Bigger batch and more epochs seemed to yield more stable results. Sometimes smaller batch and less epochs got to same accuracy faster, but this method had more variation.<br>\n",
    "<u>KFold amount</u>: Inconsistency rises with more KFolds, due to validation set becoming increasingly small. 25% (with 4 KFolds) is still quite ok validation set. 3 folds seemed to work similraly to 4 folds.<br>\n",
    "<u>Optimizers</u>: Tested few different, but ultimately Adam with low learning rate got the smoothest curves. I got either inconsistent or less accurate results with others, even with similarly low learning rates."
   ]
  },
  {
   "cell_type": "markdown",
   "metadata": {},
   "source": [
    "<font size=\"5\">Conclusion</font><br>\n",
    "Given the quality and amount of data, in addition to the testing done, the result of average 80% accuracy is good enough.\n",
    "Deviation in loss deviatation got ironed out (no longer random 0.1 or higher deviation).<br>\n",
    "Curves are smooth, training times are relatively fast. With more (and more consistent) data, I think this could get better results.<br>"
   ]
  }
 ],
 "metadata": {
  "kernelspec": {
   "display_name": "Python 3",
   "language": "python",
   "name": "python3"
  },
  "language_info": {
   "codemirror_mode": {
    "name": "ipython",
    "version": 3
   },
   "file_extension": ".py",
   "mimetype": "text/x-python",
   "name": "python",
   "nbconvert_exporter": "python",
   "pygments_lexer": "ipython3",
   "version": "3.6.7"
  }
 },
 "nbformat": 4,
 "nbformat_minor": 2
}
